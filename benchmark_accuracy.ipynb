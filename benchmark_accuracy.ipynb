{
 "cells": [
  {
   "cell_type": "markdown",
   "metadata": {},
   "source": [
    "# Accuracy Benchmarks\n",
    "Notebook that benchmarks the accuracy of the differentially private cluster detection algorithm.\n",
    "\n",
    "## Parameters\n",
    "Parameters for the accuracy benchmark."
   ]
  },
  {
   "cell_type": "code",
   "execution_count": 1,
   "metadata": {},
   "outputs": [],
   "source": [
    "ITERS = 100 # number of iterations to try generating data for\n",
    "EPSILONS = (0.1, 0.25, 0.5, 1.0, 5.0) # overall bound on the total privacy loss.\n",
    "POPULATION = 500_000 # population of the simulated region\n",
    "BACKGROUND_INCIDENCE_RATE = 0.005 # rate of disease outside of a cluster\n",
    "CLUSTER_INCIDENCE_RATE = 0.01 # rate of disease inside of a cluster\n",
    "QUADTREE_HEIGHT = 3 # depth of space-indexing datastructure\n",
    "CLUSTER_RADIUS_INTERVAL = (0.1, 0.25) # (min, max) radius for a cluster"
   ]
  },
  {
   "cell_type": "code",
   "execution_count": 2,
   "metadata": {},
   "outputs": [],
   "source": [
    "import numpy as np\n",
    "import cluster\n",
    "import util\n",
    "from shapely import geometry\n",
    "from cormode import gen, private\n",
    "from cormode.classical import QuadTreeNode\n",
    "from cormode import postprocessing\n",
    "\n",
    "\n",
    "# poisson parameter for number of background cases.\n",
    "lambda_background = POPULATION * BACKGROUND_INCIDENCE_RATE\n",
    "# poisson parameter for number of cluster cases.\n",
    "lambda_cluster = POPULATION * CLUSTER_INCIDENCE_RATE\n",
    "\n",
    "nonprivate_ious = []\n",
    "private_mean_ious = []\n",
    "ols_mean_ious = []\n",
    "\n",
    "# try each value of epsilon\n",
    "for epsilon in EPSILONS:\n",
    "    private_ious = []\n",
    "    ols_ious = []\n",
    "    for iter in range(ITERS):\n",
    "        # data generation\n",
    "\n",
    "        # pick circular region to be our cluster\n",
    "        cluster_center = (np.random.uniform(0,1), np.random.uniform(0,1))\n",
    "        cluster_radius = np.random.uniform(0.1, 0.25)\n",
    "        cluster_region = geometry.Point(*cluster_center).buffer(cluster_radius)\n",
    "\n",
    "        # generate some data\n",
    "        points = gen.generate_points_single_cluster(\n",
    "            geometry.box(0,0,1,1),\n",
    "            lambda_background,\n",
    "            cluster_region,\n",
    "            lambda_cluster\n",
    "        )\n",
    "        \n",
    "        # build non-private quadtree on these points\n",
    "        tree = QuadTreeNode(height=QUADTREE_HEIGHT)\n",
    "        for point in points:\n",
    "            tree.insert_point(point)\n",
    "\n",
    "        # build private quadtree from the non-private one\n",
    "        private_tree = private.make_private_quadtree(tree, epsilon_total=epsilon, budget_strategy=private.BudgetStrategy.GEOMETRIC)\n",
    "        ols_tree = postprocessing.build_ols_tree(private_tree)\n",
    "\n",
    "\n",
    "        # find cluster regions\n",
    "        nonprivate_scan_statistic, nonprivate_region = cluster.find_max_scan_statistic_sweep(tree, POPULATION)\n",
    "        private_scan_statistic, private_region = cluster.find_max_scan_statistic_sweep(private_tree, POPULATION)\n",
    "        ols_scan_statistic, ols_region = cluster.find_max_scan_statistic_sweep(ols_tree, POPULATION)\n",
    "\n",
    "        # compute IoU for each region\n",
    "        nonprivate_iou = util.intersection_over_union(cluster_region, util.make_shapely_circle(*nonprivate_region))\n",
    "        private_iou = util.intersection_over_union(cluster_region, util.make_shapely_circle(*private_region))\n",
    "        ols_iou = util.intersection_over_union(cluster_region, util.make_shapely_circle(*ols_region))\n",
    "\n",
    "        nonprivate_ious.append(nonprivate_iou)\n",
    "        private_ious.append(private_iou)\n",
    "        ols_ious.append(ols_iou)\n",
    "\n",
    "    private_mean_ious.append(np.mean(private_ious))\n",
    "    ols_mean_ious.append(np.mean(ols_ious))\n",
    "nonprivate_mean_iou = np.mean(nonprivate_ious)    "
   ]
  },
  {
   "cell_type": "code",
   "execution_count": 21,
   "metadata": {},
   "outputs": [
    {
     "data": {
      "text/plain": [
       "<matplotlib.legend.Legend at 0x11bd15d60>"
      ]
     },
     "execution_count": 21,
     "metadata": {},
     "output_type": "execute_result"
    },
    {
     "data": {
      "image/png": "[encoded data removed]",
      "text/plain": [
       "<Figure size 432x288 with 1 Axes>"
      ]
     },
     "metadata": {
      "needs_background": "light"
     },
     "output_type": "display_data"
    }
   ],
   "source": [
    "import matplotlib.pyplot as plt\n",
    "import numpy as np\n",
    "\n",
    "plt.xlabel(\"Epsilon\")\n",
    "plt.ylabel(\"Mean IoU\")\n",
    "ind = np.arange(len(EPSILONS))\n",
    "width = 0.4\n",
    "plt.bar(ind - width/2, private_mean_ious, width, color=\"blue\", label=\"No postprocessing\")\n",
    "plt.bar(ind + width/2, ols_mean_ious, width, color=\"orange\", label=\"OLS postprocessing\")\n",
    "plt.xticks(ind, [str(x) for x in EPSILONS])\n",
    "plt.plot([0, max(EPSILONS)], [nonprivate_mean_iou] * 2, label=\"Non-private baseline\", color=\"red\")\n",
    "plt.legend(loc=\"lower right\")"
   ]
  }
 ],
 "metadata": {
  "interpreter": {
   "hash": "51793720bec7b2e16b4515eee7b8e30fa6fff7e03a02558507baf5aeb4065080"
  },
  "kernelspec": {
   "display_name": "Python 3.9.7 ('dp-spatial-decompositions-fZ7kbkiR-py3.9')",
   "language": "python",
   "name": "python3"
  },
  "language_info": {
   "codemirror_mode": {
    "name": "ipython",
    "version": 3
   },
   "file_extension": ".py",
   "mimetype": "text/x-python",
   "name": "python",
   "nbconvert_exporter": "python",
   "pygments_lexer": "ipython3",
   "version": "3.9.7"
  },
  "orig_nbformat": 4
 },
 "nbformat": 4,
 "nbformat_minor": 2
}
