{
 "cells": [
  {
   "cell_type": "markdown",
   "metadata": {},
   "source": [
    "# Accuracy Benchmarks\n",
    "Empirically computes the accuracy of the differentially private cluster detection algorithm, using the non-private algorithm as a reference point.\n",
    "\n",
    "## Parameters\n",
    "Parameters for the accuracy benchmark."
   ]
  },
  {
   "cell_type": "code",
   "execution_count": 2,
   "metadata": {},
   "outputs": [],
   "source": [
    "ITERS = 100 # number of iterations to try generating data for\n",
    "EPSILONS = (0.1, 0.25, 0.5, 1.0, 5.0) # overall bound on the total privacy loss.\n",
    "POPULATION = 500_000 # population of the simulated region\n",
    "BACKGROUND_INCIDENCE_RATE = 0.005 # rate of disease outside of a cluster\n",
    "CLUSTER_INCIDENCE_RATE = 0.01 # rate of disease inside of a cluster\n",
    "QUADTREE_HEIGHT = 3 # depth of space-indexing datastructure\n",
    "CLUSTER_RADIUS_INTERVAL = (0.1, 0.25) # (min, max) radius for a cluster"
   ]
  },
  {
   "cell_type": "markdown",
   "metadata": {},
   "source": [
    "## Kulldorff's Statistic\n",
    "Computes accuracy of Kulldorff's scan statistic, with and without OLS postprocessing."
   ]
  },
  {
   "cell_type": "code",
   "execution_count": 2,
   "metadata": {},
   "outputs": [],
   "source": [
    "import numpy as np\n",
    "import cluster\n",
    "import util\n",
    "from shapely import geometry\n",
    "from cormode import gen, private\n",
    "from cormode.classical import QuadTreeNode\n",
    "from cormode import postprocessing\n",
    "\n",
    "\n",
    "# poisson parameter for number of background cases.\n",
    "lambda_background = POPULATION * BACKGROUND_INCIDENCE_RATE\n",
    "# poisson parameter for number of cluster cases.\n",
    "lambda_cluster = POPULATION * CLUSTER_INCIDENCE_RATE\n",
    "\n",
    "nonprivate_ious = []\n",
    "private_mean_ious = []\n",
    "ols_mean_ious = []\n",
    "\n",
    "# try each value of epsilon\n",
    "for epsilon in EPSILONS:\n",
    "    private_ious = []\n",
    "    ols_ious = []\n",
    "    for iter in range(ITERS):\n",
    "        # data generation\n",
    "\n",
    "        # pick circular region to be our cluster\n",
    "        cluster_center = (np.random.uniform(0,1), np.random.uniform(0,1))\n",
    "        cluster_radius = np.random.uniform(0.1, 0.25)\n",
    "        cluster_region = geometry.Point(*cluster_center).buffer(cluster_radius)\n",
    "\n",
    "        # generate some data\n",
    "        points = gen.generate_points_single_cluster(\n",
    "            geometry.box(0,0,1,1),\n",
    "            lambda_background,\n",
    "            cluster_region,\n",
    "            lambda_cluster\n",
    "        )\n",
    "        \n",
    "        # build non-private quadtree on these points\n",
    "        tree = QuadTreeNode(height=QUADTREE_HEIGHT)\n",
    "        for point in points:\n",
    "            tree.insert_point(point)\n",
    "\n",
    "        # build private quadtree from the non-private one\n",
    "        private_tree = private.make_private_quadtree(tree, epsilon_total=epsilon, budget_strategy=private.BudgetStrategy.GEOMETRIC)\n",
    "        ols_tree = postprocessing.build_ols_tree(private_tree)\n",
    "\n",
    "        # find cluster regions using kulldorff\n",
    "        _, nonprivate_region = cluster.find_max_kulldorff_sweep(tree, POPULATION)\n",
    "        _, private_region = cluster.find_max_kulldorff_sweep(private_tree, POPULATION)\n",
    "        _, ols_region = cluster.find_max_kulldorff_sweep(ols_tree, POPULATION)\n",
    "\n",
    "        # compute IoU for each region\n",
    "        nonprivate_iou = util.intersection_over_union(cluster_region, util.make_shapely_circle(*nonprivate_region))\n",
    "        private_iou = util.intersection_over_union(cluster_region, util.make_shapely_circle(*private_region))\n",
    "        ols_iou = util.intersection_over_union(cluster_region, util.make_shapely_circle(*ols_region))\n",
    "\n",
    "        nonprivate_ious.append(nonprivate_iou)\n",
    "        private_ious.append(private_iou)\n",
    "        ols_ious.append(ols_iou)\n",
    "\n",
    "    private_mean_ious.append(np.mean(private_ious))\n",
    "    ols_mean_ious.append(np.mean(ols_ious))\n",
    "nonprivate_mean_iou = np.mean(nonprivate_ious)    "
   ]
  },
  {
   "cell_type": "code",
   "execution_count": 3,
   "metadata": {},
   "outputs": [
    {
     "data": {
      "text/plain": [
       "<matplotlib.legend.Legend at 0x11bcf7d60>"
      ]
     },
     "execution_count": 3,
     "metadata": {},
     "output_type": "execute_result"
    },
    {
     "data": {
      "image/png": "[encoded data removed]",
      "text/plain": [
       "<Figure size 432x288 with 1 Axes>"
      ]
     },
     "metadata": {
      "needs_background": "light"
     },
     "output_type": "display_data"
    }
   ],
   "source": [
    "import matplotlib.pyplot as plt\n",
    "import numpy as np\n",
    "\n",
    "plt.title(f\"Kulldorff's statistic\")\n",
    "plt.xlabel(\"Epsilon\")\n",
    "plt.ylabel(\"Mean IoU\")\n",
    "ind = np.arange(len(EPSILONS))\n",
    "width = 0.4\n",
    "# plot accuracy vs. epsilon for unprocessed private\n",
    "plt.bar(ind - width/2, private_mean_ious, width, color=\"blue\", label=\"No postprocessing\")\n",
    "# plot accuracy vs. epsilon for OLS postprocessed\n",
    "plt.bar(ind + width/2, ols_mean_ious, width, color=\"orange\", label=\"OLS postprocessing\")\n",
    "plt.xticks(ind, [str(x) for x in EPSILONS])\n",
    "# draw non-private baseline\n",
    "plt.plot([-width, max(ind) + width], [nonprivate_mean_iou] * 2, label=\"Non-private baseline\", color=\"red\")\n",
    "plt.legend(loc=\"lower right\")"
   ]
  },
  {
   "cell_type": "markdown",
   "metadata": {},
   "source": [
    "## EBP Scan Statistic\n",
    "Computes accuracy of expectation-based Poisson (EBP) scan statistic, with and without post processing."
   ]
  },
  {
   "cell_type": "code",
   "execution_count": 4,
   "metadata": {},
   "outputs": [],
   "source": [
    "import numpy as np\n",
    "import cluster\n",
    "import util\n",
    "from shapely import geometry\n",
    "from cormode import gen, private\n",
    "from cormode.classical import QuadTreeNode\n",
    "from cormode import postprocessing\n",
    "\n",
    "\n",
    "# poisson parameter for number of background cases.\n",
    "lambda_background = POPULATION * BACKGROUND_INCIDENCE_RATE\n",
    "# poisson parameter for number of cluster cases.\n",
    "lambda_cluster = POPULATION * CLUSTER_INCIDENCE_RATE\n",
    "\n",
    "nonprivate_ious = []\n",
    "private_mean_ious = []\n",
    "ols_mean_ious = []\n",
    "\n",
    "# try each value of epsilon\n",
    "for epsilon in EPSILONS:\n",
    "    private_ious = []\n",
    "    ols_ious = []\n",
    "    for iter in range(ITERS):\n",
    "        # data generation\n",
    "\n",
    "        # pick circular region to be our cluster\n",
    "        cluster_center = (np.random.uniform(0,1), np.random.uniform(0,1))\n",
    "        cluster_radius = np.random.uniform(0.1, 0.25)\n",
    "        cluster_region = geometry.Point(*cluster_center).buffer(cluster_radius)\n",
    "\n",
    "        # generate some data\n",
    "        points = gen.generate_points_single_cluster(\n",
    "            geometry.box(0,0,1,1),\n",
    "            lambda_background,\n",
    "            cluster_region,\n",
    "            lambda_cluster\n",
    "        )\n",
    "        \n",
    "        # build non-private quadtree on these points\n",
    "        tree = QuadTreeNode(height=QUADTREE_HEIGHT)\n",
    "        for point in points:\n",
    "            tree.insert_point(point)\n",
    "\n",
    "        # build private quadtree from the non-private one\n",
    "        private_tree = private.make_private_quadtree(tree, epsilon_total=epsilon, budget_strategy=private.BudgetStrategy.GEOMETRIC)\n",
    "        ols_tree = postprocessing.build_ols_tree(private_tree)\n",
    "\n",
    "        # find cluster regions using EBP\n",
    "        _, nonprivate_region = cluster.find_max_ebp_sweep(tree, lambda_background)\n",
    "        _, private_region = cluster.find_max_ebp_sweep(private_tree, lambda_background)\n",
    "        _, ols_region = cluster.find_max_ebp_sweep(ols_tree, lambda_background)\n",
    "\n",
    "        # compute IoU for each region\n",
    "        nonprivate_iou = util.intersection_over_union(cluster_region, util.make_shapely_circle(*nonprivate_region))\n",
    "        private_iou = util.intersection_over_union(cluster_region, util.make_shapely_circle(*private_region))\n",
    "        ols_iou = util.intersection_over_union(cluster_region, util.make_shapely_circle(*ols_region))\n",
    "\n",
    "        nonprivate_ious.append(nonprivate_iou)\n",
    "        private_ious.append(private_iou)\n",
    "        ols_ious.append(ols_iou)\n",
    "\n",
    "    private_mean_ious.append(np.mean(private_ious))\n",
    "    ols_mean_ious.append(np.mean(ols_ious))\n",
    "nonprivate_mean_iou = np.mean(nonprivate_ious)    "
   ]
  },
  {
   "cell_type": "code",
   "execution_count": 5,
   "metadata": {},
   "outputs": [
    {
     "data": {
      "text/plain": [
       "<matplotlib.legend.Legend at 0x11bd9fdc0>"
      ]
     },
     "execution_count": 5,
     "metadata": {},
     "output_type": "execute_result"
    },
    {
     "data": {
      "image/png": "[encoded data removed]",
      "text/plain": [
       "<Figure size 432x288 with 1 Axes>"
      ]
     },
     "metadata": {
      "needs_background": "light"
     },
     "output_type": "display_data"
    }
   ],
   "source": [
    "import matplotlib.pyplot as plt\n",
    "import numpy as np\n",
    "\n",
    "plt.title(f\"EBP scan statistic\")\n",
    "plt.xlabel(\"Epsilon\")\n",
    "plt.ylabel(\"Mean IoU\")\n",
    "ind = np.arange(len(EPSILONS))\n",
    "width = 0.4\n",
    "# plot accuracy vs. epsilon for unprocessed private\n",
    "plt.bar(ind - width/2, private_mean_ious, width, color=\"blue\", label=\"No postprocessing\")\n",
    "# plot accuracy vs. epsilon for OLS postprocessed\n",
    "plt.bar(ind + width/2, ols_mean_ious, width, color=\"orange\", label=\"OLS postprocessing\")\n",
    "plt.xticks(ind, [str(x) for x in EPSILONS])\n",
    "# draw non-private baseline\n",
    "plt.plot([-width, max(ind) + width], [nonprivate_mean_iou] * 2, label=\"Non-private baseline\", color=\"red\")\n",
    "plt.legend(loc=\"lower right\")"
   ]
  },
  {
   "cell_type": "markdown",
   "metadata": {},
   "source": [
    "## Comparing scan statistics\n",
    "Computes accuracy of Kulldorff and EBG (with OLS postprocessing) and plots comparison."
   ]
  },
  {
   "cell_type": "code",
   "execution_count": 3,
   "metadata": {},
   "outputs": [],
   "source": [
    "import numpy as np\n",
    "import cluster\n",
    "import util\n",
    "from shapely import geometry\n",
    "from cormode import gen, private\n",
    "from cormode.classical import QuadTreeNode\n",
    "from cormode import postprocessing\n",
    "\n",
    "\n",
    "# poisson parameter for number of background cases.\n",
    "lambda_background = POPULATION * BACKGROUND_INCIDENCE_RATE\n",
    "# poisson parameter for number of cluster cases.\n",
    "lambda_cluster = POPULATION * CLUSTER_INCIDENCE_RATE\n",
    "\n",
    "ebp_nonprivate_ious = []\n",
    "ebp_mean_ious = []\n",
    "\n",
    "kulldorff_nonprivate_ious = []\n",
    "kulldorff_mean_ious = []\n",
    "\n",
    "# try each value of epsilon\n",
    "for epsilon in EPSILONS:\n",
    "    ebp_ious = []\n",
    "    kulldorff_ious = []\n",
    "\n",
    "    for iter in range(ITERS):\n",
    "        # data generation\n",
    "\n",
    "        # pick circular region to be our cluster\n",
    "        cluster_center = (np.random.uniform(0,1), np.random.uniform(0,1))\n",
    "        cluster_radius = np.random.uniform(0.1, 0.25)\n",
    "        cluster_region = geometry.Point(*cluster_center).buffer(cluster_radius)\n",
    "\n",
    "        # generate some data\n",
    "        points = gen.generate_points_single_cluster(\n",
    "            geometry.box(0,0,1,1),\n",
    "            lambda_background,\n",
    "            cluster_region,\n",
    "            lambda_cluster\n",
    "        )\n",
    "        \n",
    "        # build non-private quadtree on these points\n",
    "        tree = QuadTreeNode(height=QUADTREE_HEIGHT)\n",
    "        for point in points:\n",
    "            tree.insert_point(point)\n",
    "\n",
    "        # build private quadtree from the non-private one\n",
    "        private_tree = private.make_private_quadtree(tree, epsilon_total=epsilon, budget_strategy=private.BudgetStrategy.GEOMETRIC)\n",
    "        ols_tree = postprocessing.build_ols_tree(private_tree)\n",
    "\n",
    "        # find cluster regions using EBP\n",
    "        _, ebp_nonprivate_region = cluster.find_max_ebp_sweep(tree, lambda_background)\n",
    "        _, ebp_ols_region = cluster.find_max_ebp_sweep(ols_tree, lambda_background)\n",
    "\n",
    "        _, kulldorff_nonprivate_region = cluster.find_max_kulldorff_sweep(tree, POPULATION)\n",
    "        _, kulldorff_ols_region = cluster.find_max_kulldorff_sweep(ols_tree, POPULATION)\n",
    "\n",
    "        # compute IoU for each region\n",
    "        ebp_nonprivate_iou = util.intersection_over_union(cluster_region, util.make_shapely_circle(*ebp_nonprivate_region))\n",
    "        ebp_ols_iou = util.intersection_over_union(cluster_region, util.make_shapely_circle(*ebp_ols_region))\n",
    "\n",
    "        kulldorff_nonprivate_iou = util.intersection_over_union(cluster_region, util.make_shapely_circle(*kulldorff_nonprivate_region))\n",
    "        kulldorff_ols_iou = util.intersection_over_union(cluster_region, util.make_shapely_circle(*kulldorff_ols_region))\n",
    "\n",
    "        ebp_nonprivate_ious.append(ebp_nonprivate_iou)\n",
    "        ebp_ious.append(ebp_ols_iou)\n",
    "\n",
    "        kulldorff_nonprivate_ious.append(kulldorff_nonprivate_iou)\n",
    "        kulldorff_ious.append(kulldorff_ols_iou)\n",
    "    \n",
    "    ebp_mean_ious.append(np.mean(ebp_ious))\n",
    "    kulldorff_mean_ious.append(np.mean(kulldorff_ious))\n",
    "\n",
    "ebp_nonprivate_mean_iou = np.mean(ebp_nonprivate_ious)\n",
    "kulldorff_nonprivate_mean_iou = np.mean(kulldorff_nonprivate_ious)"
   ]
  },
  {
   "cell_type": "code",
   "execution_count": 11,
   "metadata": {},
   "outputs": [
    {
     "data": {
      "text/plain": [
       "<matplotlib.legend.Legend at 0x12041f040>"
      ]
     },
     "execution_count": 11,
     "metadata": {},
     "output_type": "execute_result"
    },
    {
     "data": {
      "image/png": "[encoded data removed]",
      "text/plain": [
       "<Figure size 432x288 with 1 Axes>"
      ]
     },
     "metadata": {
      "needs_background": "light"
     },
     "output_type": "display_data"
    }
   ],
   "source": [
    "import matplotlib.pyplot as plt\n",
    "import numpy as np\n",
    "\n",
    "plt.title(f\"Comparing scan statistics\")\n",
    "plt.xlabel(\"Epsilon\")\n",
    "plt.ylabel(\"Mean IoU\")\n",
    "ind = np.arange(len(EPSILONS))\n",
    "width = 0.4\n",
    "# plot accuracy vs. epsilon for unprocessed private\n",
    "plt.bar(ind - width/2, ebp_mean_ious, width, color=\"blue\", label=\"EBP\")\n",
    "# plot accuracy vs. epsilon for OLS postprocessed\n",
    "plt.bar(ind + width/2, kulldorff_mean_ious, width, color=\"orange\", label=\"Kulldorff\")\n",
    "plt.xticks(ind, [str(x) for x in EPSILONS])\n",
    "# draw non-private baseline\n",
    "plt.plot([-width, max(ind) + width], [ebp_nonprivate_mean_iou] * 2, label=\"EBP: non-private baseline\", color=\"red\")\n",
    "plt.plot([-width, max(ind) + width], [kulldorff_nonprivate_mean_iou] * 2, label=\"Kulldorff: non-private baseline\", color=\"green\")\n",
    "plt.legend(loc=\"lower right\")"
   ]
  }
 ],
 "metadata": {
  "interpreter": {
   "hash": "51793720bec7b2e16b4515eee7b8e30fa6fff7e03a02558507baf5aeb4065080"
  },
  "kernelspec": {
   "display_name": "Python 3.9.7 ('dp-spatial-decompositions-fZ7kbkiR-py3.9')",
   "language": "python",
   "name": "python3"
  },
  "language_info": {
   "codemirror_mode": {
    "name": "ipython",
    "version": 3
   },
   "file_extension": ".py",
   "mimetype": "text/x-python",
   "name": "python",
   "nbconvert_exporter": "python",
   "pygments_lexer": "ipython3",
   "version": "3.9.7"
  },
  "orig_nbformat": 4
 },
 "nbformat": 4,
 "nbformat_minor": 2
}
