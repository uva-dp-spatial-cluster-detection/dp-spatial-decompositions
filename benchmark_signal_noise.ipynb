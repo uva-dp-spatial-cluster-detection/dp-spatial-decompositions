{
 "cells": [
  {
   "cell_type": "markdown",
   "metadata": {},
   "source": [
    "# Signal/Noise Benchmarks\n",
    "This notebook generates figures that demonstrate algorithm performance across a variety of signal/noise values."
   ]
  },
  {
   "cell_type": "markdown",
   "metadata": {},
   "source": [
    "## Parameters"
   ]
  },
  {
   "cell_type": "code",
   "execution_count": 70,
   "metadata": {},
   "outputs": [],
   "source": [
    "POPULATION = 500_000 # population of simulated region\n",
    "BACKGROUND_INCIDENCE_RATE = 0.005 # e.g., background rate of a disease\n",
    "CLUSTER_RADIUS_INTERVAL = (0.1, 0.25) # (min, max) radius\n",
    "QUADTREE_HEIGHT = 4\n",
    "\n",
    "BETAS = [1.1, 1.5, 2.0, 5.0, 10.0, 100.0] # values of beta (signal factor)\n",
    "EPSILONS = [0.1, 0.25, 0.5, 1.0, 5.0, \"Nonprivate\"] # values of epsilon (bound on privacy loss)\n",
    "ITERS = 1 # number of simulations per (beta, epsilon pair)\n",
    "\n",
    "SAVE_DATA_PATH = \"./signal_noise.csv\""
   ]
  },
  {
   "cell_type": "markdown",
   "metadata": {},
   "source": [
    "## Data generation\n",
    "Pick a point $c$ uniformly from the unit square and a radius $r$ from `CLUSTER_RADIUS_INTERVAL`. Designate the circle centered at $c$ with radius $r$ as our cluster region $C$.\n",
    "\n",
    "Let `lambda_background := POPULATION * BACKGROUND_INCIDENCE_RATE`. Generate points outside of $C$ according to a Poisson point process with rate `lambda_background`.\n",
    "\n",
    "Let `lambda_cluster := lambda_background * beta` Generate points within $C$ according to a Poisson point process with rate `lambda_cluster`.\n",
    "\n",
    "What results is a set of points on the unit square representing a simulated dataset where points represent events such as disease incidence."
   ]
  },
  {
   "cell_type": "code",
   "execution_count": 71,
   "metadata": {},
   "outputs": [],
   "source": [
    "import numpy as np\n",
    "import typing\n",
    "from shapely import geometry\n",
    "\n",
    "from cormode import Point\n",
    "from cormode import gen\n",
    "\n",
    "def generate_dataset(beta: float) -> typing.List[Point]:\n",
    "    # beta := signal ratio, e.g., ratio of lambda_cluster / lambda_background\n",
    "    # pick circular region to be our cluster\n",
    "    cluster_center = (np.random.uniform(0,1), np.random.uniform(0,1))\n",
    "    cluster_radius = np.random.uniform(0.1, 0.25)\n",
    "    cluster_region = geometry.Point(*cluster_center).buffer(cluster_radius)\n",
    "\n",
    "    lambda_background = POPULATION * BACKGROUND_INCIDENCE_RATE\n",
    "    lambda_cluster = lambda_background * beta\n",
    "\n",
    "    # generate points randomly\n",
    "    return gen.generate_points_single_cluster(\n",
    "        geometry.box(0,0,1,1),\n",
    "        lambda_background,\n",
    "        cluster_region,\n",
    "        lambda_cluster\n",
    "    ), cluster_region"
   ]
  },
  {
   "cell_type": "markdown",
   "metadata": {},
   "source": [
    "## Run experiment\n",
    "For each combination of `[\"EBP+OLS\", \"Kulldorff+OLS\"], betas, epsilons`, generate `ITERS` sample datasets using signal ratio beta and privatize them with the given epsilon. Report average IoU with ground truth cluster."
   ]
  },
  {
   "cell_type": "code",
   "execution_count": 72,
   "metadata": {},
   "outputs": [],
   "source": [
    "import pandas as pd\n",
    "from shapely import geometry\n",
    "import util\n",
    "import collections\n",
    "\n",
    "import cluster\n",
    "from cormode import gen, private\n",
    "from cormode.classical import QuadTreeNode\n",
    "from cormode import postprocessing\n",
    "\n",
    "trials = [\"EBP\", \"Kulldorff\"]\n",
    "df = pd.DataFrame(columns=[\"trial\", \"beta\", \"epsilon\", \"mean_iou\"])\n",
    "\n",
    "for trial in trials:\n",
    "    for beta in BETAS:\n",
    "        for epsilon in EPSILONS:\n",
    "            ious = []\n",
    "            for iter in range(ITERS):\n",
    "                points, cluster_region = generate_dataset(beta)\n",
    "                tree = QuadTreeNode(height=QUADTREE_HEIGHT)\n",
    "\n",
    "                for point in points:\n",
    "                    tree.insert_point(point)\n",
    "\n",
    "                if epsilon != \"Nonprivate\":\n",
    "                    # privatize tree\n",
    "                    private_tree = private.make_private_quadtree(tree, epsilon_total=epsilon, budget_strategy=private.BudgetStrategy.GEOMETRIC)\n",
    "                    ols_tree = postprocessing.build_ols_tree(private_tree)\n",
    "                else:\n",
    "                    # if epsilon = 0 then proceed with nonprivate tree\n",
    "                    ols_tree = tree\n",
    "                \n",
    "                if trial == \"Kulldorff\":\n",
    "                    _, computed_region = cluster.find_max_kulldorff_sweep(ols_tree, POPULATION)\n",
    "                elif trial == \"EBP\":\n",
    "                    _, computed_region = cluster.find_max_ebp_sweep(ols_tree, POPULATION * BACKGROUND_INCIDENCE_RATE)\n",
    "                else:\n",
    "                    raise NotImplementedError(f\"Unknown trial {trial}\")\n",
    "\n",
    "                computed_iou = util.intersection_over_union(cluster_region, util.make_shapely_circle(*computed_region))\n",
    "                ious.append(computed_iou)\n",
    "            \n",
    "            df.loc[len(df)] = [trial, beta, epsilon, np.mean(ious)]\n"
   ]
  },
  {
   "cell_type": "markdown",
   "metadata": {},
   "source": [
    "### Save data"
   ]
  },
  {
   "cell_type": "code",
   "execution_count": 73,
   "metadata": {},
   "outputs": [],
   "source": [
    "if SAVE_DATA_PATH is not None:\n",
    "    df.to_csv(SAVE_DATA_PATH)"
   ]
  },
  {
   "cell_type": "markdown",
   "metadata": {},
   "source": [
    "## Generate visualization"
   ]
  },
  {
   "cell_type": "code",
   "execution_count": 74,
   "metadata": {},
   "outputs": [
    {
     "data": {
      "image/png": "[encoded data removed]",
      "text/plain": [
       "<Figure size 1200x400 with 4 Axes>"
      ]
     },
     "metadata": {},
     "output_type": "display_data"
    }
   ],
   "source": [
    "import matplotlib.pyplot as plt\n",
    "import seaborn as sns\n",
    "\n",
    "fig, axs = plt.subplots(1, len(trials), figsize=(12,4))\n",
    "vmin, vmax = np.min(df.mean_iou), max(df.mean_iou)\n",
    "\n",
    "for ax, trial in zip(axs, trials):\n",
    "    ax.set_title(f\"{trial}: Mean IoU\")\n",
    "    df_trial = df[df.trial == trial]\n",
    "    data = df_trial.pivot(\"beta\", \"epsilon\", \"mean_iou\")\n",
    "    data.sort_index(ascending = False, inplace=True)\n",
    "    sns.heatmap(data, ax=ax, vmin=vmin, vmax=vmax)"
   ]
  }
 ],
 "metadata": {
  "kernelspec": {
   "display_name": "Python 3.10.6 ('dp-spatial-decompositions-fZ7kbkiR-py3.10')",
   "language": "python",
   "name": "python3"
  },
  "language_info": {
   "codemirror_mode": {
    "name": "ipython",
    "version": 3
   },
   "file_extension": ".py",
   "mimetype": "text/x-python",
   "name": "python",
   "nbconvert_exporter": "python",
   "pygments_lexer": "ipython3",
   "version": "3.10.6"
  },
  "orig_nbformat": 4,
  "vscode": {
   "interpreter": {
    "hash": "e51605639d42b7ea8e57078899b067f944cbf08c66440234c66b5806ec1884c6"
   }
  }
 },
 "nbformat": 4,
 "nbformat_minor": 2
}
